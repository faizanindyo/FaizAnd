{
  "nbformat": 4,
  "nbformat_minor": 0,
  "metadata": {
    "colab": {
      "provenance": [],
      "authorship_tag": "ABX9TyOZNi9BVA+uiXXk263SjyC2",
      "include_colab_link": true
    },
    "kernelspec": {
      "name": "python3",
      "display_name": "Python 3"
    },
    "language_info": {
      "name": "python"
    }
  },
  "cells": [
    {
      "cell_type": "markdown",
      "metadata": {
        "id": "view-in-github",
        "colab_type": "text"
      },
      "source": [
        "<a href=\"https://colab.research.google.com/github/faizanindyo/FaizAnd/blob/main/Tugas%205/Explanatory%20Data.ipynb\" target=\"_parent\"><img src=\"https://colab.research.google.com/assets/colab-badge.svg\" alt=\"Open In Colab\"/></a>"
      ]
    },
    {
      "cell_type": "code",
      "execution_count": null,
      "metadata": {
        "id": "GeIk2bQnxHP9"
      },
      "outputs": [],
      "source": []
    },
    {
      "cell_type": "markdown",
      "source": [
        "NAMA : Muhammad Faiz Anindyo Widodo\n",
        "\n",
        "NIM : 1103213011\n",
        "\n",
        "Lecture : 5\n",
        "\n",
        "Dataset : IT Salary Survey\n",
        "\n",
        "Dokumentasi GPT : https://chat.openai.com/share/03902b8c-09d2-4f3f-bc7c-f827e8640091"
      ],
      "metadata": {
        "id": "V9xly2oUxHyJ"
      }
    },
    {
      "cell_type": "code",
      "source": [
        "import pandas as pd\n",
        "df_path = '/content/drive/My Drive/MACHINE LAERNING/IT Salary Survey EU  2020.csv'\n",
        "df = pd.read_csv (df_path)\n",
        "df.head()"
      ],
      "metadata": {
        "id": "YxHItgQVxMNK",
        "colab": {
          "base_uri": "https://localhost:8080/",
          "height": 585
        },
        "outputId": "b9bb73e0-a1df-4d66-ee9b-ad5327fc53c9"
      },
      "execution_count": 3,
      "outputs": [
        {
          "output_type": "execute_result",
          "data": {
            "text/plain": [
              "             Timestamp   Age Gender    City           Position   \\\n",
              "0  24/11/2020 11:14:15  26.0   Male  Munich   Software Engineer   \n",
              "1  24/11/2020 11:14:16  26.0   Male  Berlin   Backend Developer   \n",
              "2  24/11/2020 11:14:21  29.0   Male  Berlin   Software Engineer   \n",
              "3  24/11/2020 11:15:24  28.0   Male  Berlin  Frontend Developer   \n",
              "4  24/11/2020 11:15:46  37.0   Male  Berlin   Backend Developer   \n",
              "\n",
              "  Total years of experience Years of experience in Germany Seniority level  \\\n",
              "0                         5                              3          Senior   \n",
              "1                         7                              4          Senior   \n",
              "2                        12                              6            Lead   \n",
              "3                         4                              1          Junior   \n",
              "4                        17                              6          Senior   \n",
              "\n",
              "  Your main technology / programming language  \\\n",
              "0                                  TypeScript   \n",
              "1                                        Ruby   \n",
              "2                     Javascript / Typescript   \n",
              "3                                  Javascript   \n",
              "4                                     C# .NET   \n",
              "\n",
              "  Other technologies/programming languages you use often  ...  \\\n",
              "0                    Kotlin, Javascript / Typescript      ...   \n",
              "1                                                NaN      ...   \n",
              "2                    Javascript / Typescript, Docker      ...   \n",
              "3                                                NaN      ...   \n",
              "4                             .NET, SQL, AWS, Docker      ...   \n",
              "\n",
              "   Annual bonus+stocks one year ago. Only answer if staying in same country  \\\n",
              "0                                              10000                          \n",
              "1                                               5000                          \n",
              "2                                             100000                          \n",
              "3                                                NaN                          \n",
              "4                                                NaN                          \n",
              "\n",
              "  Number of vacation days           Employment status   Сontract duration  \\\n",
              "0                      30          Full-time employee  Unlimited contract   \n",
              "1                      28          Full-time employee  Unlimited contract   \n",
              "2                      30  Self-employed (freelancer)  Temporary contract   \n",
              "3                      24          Full-time employee  Unlimited contract   \n",
              "4                      29          Full-time employee  Unlimited contract   \n",
              "\n",
              "  Main language at work Company size Company type  \\\n",
              "0               English       51-100      Product   \n",
              "1               English     101-1000      Product   \n",
              "2               English     101-1000      Product   \n",
              "3               English       51-100      Startup   \n",
              "4               English     101-1000      Product   \n",
              "\n",
              "  Have you lost your job due to the coronavirus outbreak?  \\\n",
              "0                                                 No        \n",
              "1                                                 No        \n",
              "2                                                Yes        \n",
              "3                                                 No        \n",
              "4                                                 No        \n",
              "\n",
              "  Have you been forced to have a shorter working week (Kurzarbeit)? If yes, how many hours per week  \\\n",
              "0                                                NaN                                                  \n",
              "1                                                NaN                                                  \n",
              "2                                                NaN                                                  \n",
              "3                                                NaN                                                  \n",
              "4                                                NaN                                                  \n",
              "\n",
              "  Have you received additional monetary support from your employer due to Work From Home? If yes, how much in 2020 in EUR  \n",
              "0                                                NaN                                                                       \n",
              "1                                                NaN                                                                       \n",
              "2                                                NaN                                                                       \n",
              "3                                                NaN                                                                       \n",
              "4                                                NaN                                                                       \n",
              "\n",
              "[5 rows x 23 columns]"
            ],
            "text/html": [
              "\n",
              "  <div id=\"df-83501961-d05d-4698-b589-d7de56dfa7c7\" class=\"colab-df-container\">\n",
              "    <div>\n",
              "<style scoped>\n",
              "    .dataframe tbody tr th:only-of-type {\n",
              "        vertical-align: middle;\n",
              "    }\n",
              "\n",
              "    .dataframe tbody tr th {\n",
              "        vertical-align: top;\n",
              "    }\n",
              "\n",
              "    .dataframe thead th {\n",
              "        text-align: right;\n",
              "    }\n",
              "</style>\n",
              "<table border=\"1\" class=\"dataframe\">\n",
              "  <thead>\n",
              "    <tr style=\"text-align: right;\">\n",
              "      <th></th>\n",
              "      <th>Timestamp</th>\n",
              "      <th>Age</th>\n",
              "      <th>Gender</th>\n",
              "      <th>City</th>\n",
              "      <th>Position</th>\n",
              "      <th>Total years of experience</th>\n",
              "      <th>Years of experience in Germany</th>\n",
              "      <th>Seniority level</th>\n",
              "      <th>Your main technology / programming language</th>\n",
              "      <th>Other technologies/programming languages you use often</th>\n",
              "      <th>...</th>\n",
              "      <th>Annual bonus+stocks one year ago. Only answer if staying in same country</th>\n",
              "      <th>Number of vacation days</th>\n",
              "      <th>Employment status</th>\n",
              "      <th>Сontract duration</th>\n",
              "      <th>Main language at work</th>\n",
              "      <th>Company size</th>\n",
              "      <th>Company type</th>\n",
              "      <th>Have you lost your job due to the coronavirus outbreak?</th>\n",
              "      <th>Have you been forced to have a shorter working week (Kurzarbeit)? If yes, how many hours per week</th>\n",
              "      <th>Have you received additional monetary support from your employer due to Work From Home? If yes, how much in 2020 in EUR</th>\n",
              "    </tr>\n",
              "  </thead>\n",
              "  <tbody>\n",
              "    <tr>\n",
              "      <th>0</th>\n",
              "      <td>24/11/2020 11:14:15</td>\n",
              "      <td>26.0</td>\n",
              "      <td>Male</td>\n",
              "      <td>Munich</td>\n",
              "      <td>Software Engineer</td>\n",
              "      <td>5</td>\n",
              "      <td>3</td>\n",
              "      <td>Senior</td>\n",
              "      <td>TypeScript</td>\n",
              "      <td>Kotlin, Javascript / Typescript</td>\n",
              "      <td>...</td>\n",
              "      <td>10000</td>\n",
              "      <td>30</td>\n",
              "      <td>Full-time employee</td>\n",
              "      <td>Unlimited contract</td>\n",
              "      <td>English</td>\n",
              "      <td>51-100</td>\n",
              "      <td>Product</td>\n",
              "      <td>No</td>\n",
              "      <td>NaN</td>\n",
              "      <td>NaN</td>\n",
              "    </tr>\n",
              "    <tr>\n",
              "      <th>1</th>\n",
              "      <td>24/11/2020 11:14:16</td>\n",
              "      <td>26.0</td>\n",
              "      <td>Male</td>\n",
              "      <td>Berlin</td>\n",
              "      <td>Backend Developer</td>\n",
              "      <td>7</td>\n",
              "      <td>4</td>\n",
              "      <td>Senior</td>\n",
              "      <td>Ruby</td>\n",
              "      <td>NaN</td>\n",
              "      <td>...</td>\n",
              "      <td>5000</td>\n",
              "      <td>28</td>\n",
              "      <td>Full-time employee</td>\n",
              "      <td>Unlimited contract</td>\n",
              "      <td>English</td>\n",
              "      <td>101-1000</td>\n",
              "      <td>Product</td>\n",
              "      <td>No</td>\n",
              "      <td>NaN</td>\n",
              "      <td>NaN</td>\n",
              "    </tr>\n",
              "    <tr>\n",
              "      <th>2</th>\n",
              "      <td>24/11/2020 11:14:21</td>\n",
              "      <td>29.0</td>\n",
              "      <td>Male</td>\n",
              "      <td>Berlin</td>\n",
              "      <td>Software Engineer</td>\n",
              "      <td>12</td>\n",
              "      <td>6</td>\n",
              "      <td>Lead</td>\n",
              "      <td>Javascript / Typescript</td>\n",
              "      <td>Javascript / Typescript, Docker</td>\n",
              "      <td>...</td>\n",
              "      <td>100000</td>\n",
              "      <td>30</td>\n",
              "      <td>Self-employed (freelancer)</td>\n",
              "      <td>Temporary contract</td>\n",
              "      <td>English</td>\n",
              "      <td>101-1000</td>\n",
              "      <td>Product</td>\n",
              "      <td>Yes</td>\n",
              "      <td>NaN</td>\n",
              "      <td>NaN</td>\n",
              "    </tr>\n",
              "    <tr>\n",
              "      <th>3</th>\n",
              "      <td>24/11/2020 11:15:24</td>\n",
              "      <td>28.0</td>\n",
              "      <td>Male</td>\n",
              "      <td>Berlin</td>\n",
              "      <td>Frontend Developer</td>\n",
              "      <td>4</td>\n",
              "      <td>1</td>\n",
              "      <td>Junior</td>\n",
              "      <td>Javascript</td>\n",
              "      <td>NaN</td>\n",
              "      <td>...</td>\n",
              "      <td>NaN</td>\n",
              "      <td>24</td>\n",
              "      <td>Full-time employee</td>\n",
              "      <td>Unlimited contract</td>\n",
              "      <td>English</td>\n",
              "      <td>51-100</td>\n",
              "      <td>Startup</td>\n",
              "      <td>No</td>\n",
              "      <td>NaN</td>\n",
              "      <td>NaN</td>\n",
              "    </tr>\n",
              "    <tr>\n",
              "      <th>4</th>\n",
              "      <td>24/11/2020 11:15:46</td>\n",
              "      <td>37.0</td>\n",
              "      <td>Male</td>\n",
              "      <td>Berlin</td>\n",
              "      <td>Backend Developer</td>\n",
              "      <td>17</td>\n",
              "      <td>6</td>\n",
              "      <td>Senior</td>\n",
              "      <td>C# .NET</td>\n",
              "      <td>.NET, SQL, AWS, Docker</td>\n",
              "      <td>...</td>\n",
              "      <td>NaN</td>\n",
              "      <td>29</td>\n",
              "      <td>Full-time employee</td>\n",
              "      <td>Unlimited contract</td>\n",
              "      <td>English</td>\n",
              "      <td>101-1000</td>\n",
              "      <td>Product</td>\n",
              "      <td>No</td>\n",
              "      <td>NaN</td>\n",
              "      <td>NaN</td>\n",
              "    </tr>\n",
              "  </tbody>\n",
              "</table>\n",
              "<p>5 rows × 23 columns</p>\n",
              "</div>\n",
              "    <div class=\"colab-df-buttons\">\n",
              "\n",
              "  <div class=\"colab-df-container\">\n",
              "    <button class=\"colab-df-convert\" onclick=\"convertToInteractive('df-83501961-d05d-4698-b589-d7de56dfa7c7')\"\n",
              "            title=\"Convert this dataframe to an interactive table.\"\n",
              "            style=\"display:none;\">\n",
              "\n",
              "  <svg xmlns=\"http://www.w3.org/2000/svg\" height=\"24px\" viewBox=\"0 -960 960 960\">\n",
              "    <path d=\"M120-120v-720h720v720H120Zm60-500h600v-160H180v160Zm220 220h160v-160H400v160Zm0 220h160v-160H400v160ZM180-400h160v-160H180v160Zm440 0h160v-160H620v160ZM180-180h160v-160H180v160Zm440 0h160v-160H620v160Z\"/>\n",
              "  </svg>\n",
              "    </button>\n",
              "\n",
              "  <style>\n",
              "    .colab-df-container {\n",
              "      display:flex;\n",
              "      gap: 12px;\n",
              "    }\n",
              "\n",
              "    .colab-df-convert {\n",
              "      background-color: #E8F0FE;\n",
              "      border: none;\n",
              "      border-radius: 50%;\n",
              "      cursor: pointer;\n",
              "      display: none;\n",
              "      fill: #1967D2;\n",
              "      height: 32px;\n",
              "      padding: 0 0 0 0;\n",
              "      width: 32px;\n",
              "    }\n",
              "\n",
              "    .colab-df-convert:hover {\n",
              "      background-color: #E2EBFA;\n",
              "      box-shadow: 0px 1px 2px rgba(60, 64, 67, 0.3), 0px 1px 3px 1px rgba(60, 64, 67, 0.15);\n",
              "      fill: #174EA6;\n",
              "    }\n",
              "\n",
              "    .colab-df-buttons div {\n",
              "      margin-bottom: 4px;\n",
              "    }\n",
              "\n",
              "    [theme=dark] .colab-df-convert {\n",
              "      background-color: #3B4455;\n",
              "      fill: #D2E3FC;\n",
              "    }\n",
              "\n",
              "    [theme=dark] .colab-df-convert:hover {\n",
              "      background-color: #434B5C;\n",
              "      box-shadow: 0px 1px 3px 1px rgba(0, 0, 0, 0.15);\n",
              "      filter: drop-shadow(0px 1px 2px rgba(0, 0, 0, 0.3));\n",
              "      fill: #FFFFFF;\n",
              "    }\n",
              "  </style>\n",
              "\n",
              "    <script>\n",
              "      const buttonEl =\n",
              "        document.querySelector('#df-83501961-d05d-4698-b589-d7de56dfa7c7 button.colab-df-convert');\n",
              "      buttonEl.style.display =\n",
              "        google.colab.kernel.accessAllowed ? 'block' : 'none';\n",
              "\n",
              "      async function convertToInteractive(key) {\n",
              "        const element = document.querySelector('#df-83501961-d05d-4698-b589-d7de56dfa7c7');\n",
              "        const dataTable =\n",
              "          await google.colab.kernel.invokeFunction('convertToInteractive',\n",
              "                                                    [key], {});\n",
              "        if (!dataTable) return;\n",
              "\n",
              "        const docLinkHtml = 'Like what you see? Visit the ' +\n",
              "          '<a target=\"_blank\" href=https://colab.research.google.com/notebooks/data_table.ipynb>data table notebook</a>'\n",
              "          + ' to learn more about interactive tables.';\n",
              "        element.innerHTML = '';\n",
              "        dataTable['output_type'] = 'display_data';\n",
              "        await google.colab.output.renderOutput(dataTable, element);\n",
              "        const docLink = document.createElement('div');\n",
              "        docLink.innerHTML = docLinkHtml;\n",
              "        element.appendChild(docLink);\n",
              "      }\n",
              "    </script>\n",
              "  </div>\n",
              "\n",
              "\n",
              "<div id=\"df-6a63b017-76df-4454-8b0d-36dc2abd02fb\">\n",
              "  <button class=\"colab-df-quickchart\" onclick=\"quickchart('df-6a63b017-76df-4454-8b0d-36dc2abd02fb')\"\n",
              "            title=\"Suggest charts\"\n",
              "            style=\"display:none;\">\n",
              "\n",
              "<svg xmlns=\"http://www.w3.org/2000/svg\" height=\"24px\"viewBox=\"0 0 24 24\"\n",
              "     width=\"24px\">\n",
              "    <g>\n",
              "        <path d=\"M19 3H5c-1.1 0-2 .9-2 2v14c0 1.1.9 2 2 2h14c1.1 0 2-.9 2-2V5c0-1.1-.9-2-2-2zM9 17H7v-7h2v7zm4 0h-2V7h2v10zm4 0h-2v-4h2v4z\"/>\n",
              "    </g>\n",
              "</svg>\n",
              "  </button>\n",
              "\n",
              "<style>\n",
              "  .colab-df-quickchart {\n",
              "      --bg-color: #E8F0FE;\n",
              "      --fill-color: #1967D2;\n",
              "      --hover-bg-color: #E2EBFA;\n",
              "      --hover-fill-color: #174EA6;\n",
              "      --disabled-fill-color: #AAA;\n",
              "      --disabled-bg-color: #DDD;\n",
              "  }\n",
              "\n",
              "  [theme=dark] .colab-df-quickchart {\n",
              "      --bg-color: #3B4455;\n",
              "      --fill-color: #D2E3FC;\n",
              "      --hover-bg-color: #434B5C;\n",
              "      --hover-fill-color: #FFFFFF;\n",
              "      --disabled-bg-color: #3B4455;\n",
              "      --disabled-fill-color: #666;\n",
              "  }\n",
              "\n",
              "  .colab-df-quickchart {\n",
              "    background-color: var(--bg-color);\n",
              "    border: none;\n",
              "    border-radius: 50%;\n",
              "    cursor: pointer;\n",
              "    display: none;\n",
              "    fill: var(--fill-color);\n",
              "    height: 32px;\n",
              "    padding: 0;\n",
              "    width: 32px;\n",
              "  }\n",
              "\n",
              "  .colab-df-quickchart:hover {\n",
              "    background-color: var(--hover-bg-color);\n",
              "    box-shadow: 0 1px 2px rgba(60, 64, 67, 0.3), 0 1px 3px 1px rgba(60, 64, 67, 0.15);\n",
              "    fill: var(--button-hover-fill-color);\n",
              "  }\n",
              "\n",
              "  .colab-df-quickchart-complete:disabled,\n",
              "  .colab-df-quickchart-complete:disabled:hover {\n",
              "    background-color: var(--disabled-bg-color);\n",
              "    fill: var(--disabled-fill-color);\n",
              "    box-shadow: none;\n",
              "  }\n",
              "\n",
              "  .colab-df-spinner {\n",
              "    border: 2px solid var(--fill-color);\n",
              "    border-color: transparent;\n",
              "    border-bottom-color: var(--fill-color);\n",
              "    animation:\n",
              "      spin 1s steps(1) infinite;\n",
              "  }\n",
              "\n",
              "  @keyframes spin {\n",
              "    0% {\n",
              "      border-color: transparent;\n",
              "      border-bottom-color: var(--fill-color);\n",
              "      border-left-color: var(--fill-color);\n",
              "    }\n",
              "    20% {\n",
              "      border-color: transparent;\n",
              "      border-left-color: var(--fill-color);\n",
              "      border-top-color: var(--fill-color);\n",
              "    }\n",
              "    30% {\n",
              "      border-color: transparent;\n",
              "      border-left-color: var(--fill-color);\n",
              "      border-top-color: var(--fill-color);\n",
              "      border-right-color: var(--fill-color);\n",
              "    }\n",
              "    40% {\n",
              "      border-color: transparent;\n",
              "      border-right-color: var(--fill-color);\n",
              "      border-top-color: var(--fill-color);\n",
              "    }\n",
              "    60% {\n",
              "      border-color: transparent;\n",
              "      border-right-color: var(--fill-color);\n",
              "    }\n",
              "    80% {\n",
              "      border-color: transparent;\n",
              "      border-right-color: var(--fill-color);\n",
              "      border-bottom-color: var(--fill-color);\n",
              "    }\n",
              "    90% {\n",
              "      border-color: transparent;\n",
              "      border-bottom-color: var(--fill-color);\n",
              "    }\n",
              "  }\n",
              "</style>\n",
              "\n",
              "  <script>\n",
              "    async function quickchart(key) {\n",
              "      const quickchartButtonEl =\n",
              "        document.querySelector('#' + key + ' button');\n",
              "      quickchartButtonEl.disabled = true;  // To prevent multiple clicks.\n",
              "      quickchartButtonEl.classList.add('colab-df-spinner');\n",
              "      try {\n",
              "        const charts = await google.colab.kernel.invokeFunction(\n",
              "            'suggestCharts', [key], {});\n",
              "      } catch (error) {\n",
              "        console.error('Error during call to suggestCharts:', error);\n",
              "      }\n",
              "      quickchartButtonEl.classList.remove('colab-df-spinner');\n",
              "      quickchartButtonEl.classList.add('colab-df-quickchart-complete');\n",
              "    }\n",
              "    (() => {\n",
              "      let quickchartButtonEl =\n",
              "        document.querySelector('#df-6a63b017-76df-4454-8b0d-36dc2abd02fb button');\n",
              "      quickchartButtonEl.style.display =\n",
              "        google.colab.kernel.accessAllowed ? 'block' : 'none';\n",
              "    })();\n",
              "  </script>\n",
              "</div>\n",
              "    </div>\n",
              "  </div>\n"
            ],
            "application/vnd.google.colaboratory.intrinsic+json": {
              "type": "dataframe",
              "variable_name": "df"
            }
          },
          "metadata": {},
          "execution_count": 3
        }
      ]
    },
    {
      "cell_type": "code",
      "source": [
        "print(\"Informasi tentang DataFrame:\")\n",
        "print(df.info())"
      ],
      "metadata": {
        "colab": {
          "base_uri": "https://localhost:8080/"
        },
        "id": "qQ8yMaHgzoXQ",
        "outputId": "a29d9733-511f-4c02-85a2-de92ebac47b9"
      },
      "execution_count": 4,
      "outputs": [
        {
          "output_type": "stream",
          "name": "stdout",
          "text": [
            "Informasi tentang DataFrame:\n",
            "<class 'pandas.core.frame.DataFrame'>\n",
            "RangeIndex: 1253 entries, 0 to 1252\n",
            "Data columns (total 23 columns):\n",
            " #   Column                                                                                                                   Non-Null Count  Dtype  \n",
            "---  ------                                                                                                                   --------------  -----  \n",
            " 0   Timestamp                                                                                                                1253 non-null   object \n",
            " 1   Age                                                                                                                      1226 non-null   float64\n",
            " 2   Gender                                                                                                                   1243 non-null   object \n",
            " 3   City                                                                                                                     1253 non-null   object \n",
            " 4   Position                                                                                                                 1247 non-null   object \n",
            " 5   Total years of experience                                                                                                1237 non-null   object \n",
            " 6   Years of experience in Germany                                                                                           1221 non-null   object \n",
            " 7   Seniority level                                                                                                          1241 non-null   object \n",
            " 8   Your main technology / programming language                                                                              1126 non-null   object \n",
            " 9   Other technologies/programming languages you use often                                                                   1096 non-null   object \n",
            " 10  Yearly brutto salary (without bonus and stocks) in EUR                                                                   1253 non-null   float64\n",
            " 11  Yearly bonus + stocks in EUR                                                                                             829 non-null    object \n",
            " 12  Annual brutto salary (without bonus and stocks) one year ago. Only answer if staying in the same country                 885 non-null    float64\n",
            " 13  Annual bonus+stocks one year ago. Only answer if staying in same country                                                 614 non-null    object \n",
            " 14  Number of vacation days                                                                                                  1185 non-null   object \n",
            " 15  Employment status                                                                                                        1236 non-null   object \n",
            " 16  Сontract duration                                                                                                        1224 non-null   object \n",
            " 17  Main language at work                                                                                                    1237 non-null   object \n",
            " 18  Company size                                                                                                             1235 non-null   object \n",
            " 19  Company type                                                                                                             1228 non-null   object \n",
            " 20  Have you lost your job due to the coronavirus outbreak?                                                                  1233 non-null   object \n",
            " 21  Have you been forced to have a shorter working week (Kurzarbeit)? If yes, how many hours per week                        373 non-null    float64\n",
            " 22  Have you received additional monetary support from your employer due to Work From Home? If yes, how much in 2020 in EUR  462 non-null    object \n",
            "dtypes: float64(4), object(19)\n",
            "memory usage: 225.3+ KB\n",
            "None\n"
          ]
        }
      ]
    },
    {
      "cell_type": "code",
      "source": [
        "print(\"\\nStatistik deskriptif untuk kolom numerik:\")\n",
        "print(dataset.describe())"
      ],
      "metadata": {
        "colab": {
          "base_uri": "https://localhost:8080/"
        },
        "id": "vfUVQkh90HH5",
        "outputId": "ae1a7c27-7181-4dd5-eb91-38f16082e9a7"
      },
      "execution_count": 8,
      "outputs": [
        {
          "output_type": "stream",
          "name": "stdout",
          "text": [
            "\n",
            "Statistik deskriptif untuk kolom numerik:\n",
            "               Age  Yearly brutto salary (without bonus and stocks) in EUR  \\\n",
            "count  1226.000000                                       1.253000e+03        \n",
            "mean     32.509788                                       8.027904e+07        \n",
            "std       5.663804                                       2.825061e+09        \n",
            "min      20.000000                                       1.000100e+04        \n",
            "25%      29.000000                                       5.880000e+04        \n",
            "50%      32.000000                                       7.000000e+04        \n",
            "75%      35.000000                                       8.000000e+04        \n",
            "max      69.000000                                       1.000000e+11        \n",
            "\n",
            "       Annual brutto salary (without bonus and stocks) one year ago. Only answer if staying in the same country  \\\n",
            "count                                       8.850000e+02                                                          \n",
            "mean                                        6.322459e+05                                                          \n",
            "std                                         1.680508e+07                                                          \n",
            "min                                         1.100000e+04                                                          \n",
            "25%                                         5.500000e+04                                                          \n",
            "50%                                         6.500000e+04                                                          \n",
            "75%                                         7.500000e+04                                                          \n",
            "max                                         5.000000e+08                                                          \n",
            "\n",
            "       Have you been forced to have a shorter working week (Kurzarbeit)? If yes, how many hours per week  \n",
            "count                                         373.000000                                                  \n",
            "mean                                           12.967828                                                  \n",
            "std                                            15.275174                                                  \n",
            "min                                             0.000000                                                  \n",
            "25%                                             0.000000                                                  \n",
            "50%                                             0.000000                                                  \n",
            "75%                                            30.000000                                                  \n",
            "max                                            40.000000                                                  \n"
          ]
        }
      ]
    },
    {
      "cell_type": "code",
      "source": [
        "# Menghitung jumlah nilai unik dalam setiap kolom\n",
        "df_nunique = dataset.nunique()\n",
        "\n",
        "# Menampilkan DataFrame dengan jumlah nilai unik\n",
        "print(df_nunique)"
      ],
      "metadata": {
        "colab": {
          "base_uri": "https://localhost:8080/"
        },
        "id": "PtiUYcSd1JZR",
        "outputId": "005eb64d-8bc1-4048-c0f2-9f54b4065c55"
      },
      "execution_count": 9,
      "outputs": [
        {
          "output_type": "stream",
          "name": "stdout",
          "text": [
            "Timestamp                                                                                                                  1248\n",
            "Age                                                                                                                          40\n",
            "Gender                                                                                                                        3\n",
            "City                                                                                                                        119\n",
            "Position                                                                                                                    148\n",
            "Total years of experience                                                                                                    48\n",
            "Years of experience in Germany                                                                                               53\n",
            "Seniority level                                                                                                              24\n",
            "Your main technology / programming language                                                                                 256\n",
            "Other technologies/programming languages you use often                                                                      562\n",
            "Yearly brutto salary (without bonus and stocks) in EUR                                                                      201\n",
            "Yearly bonus + stocks in EUR                                                                                                168\n",
            "Annual brutto salary (without bonus and stocks) one year ago. Only answer if staying in the same country                    147\n",
            "Annual bonus+stocks one year ago. Only answer if staying in same country                                                    131\n",
            "Number of vacation days                                                                                                      45\n",
            "Employment status                                                                                                            11\n",
            "Сontract duration                                                                                                             3\n",
            "Main language at work                                                                                                        14\n",
            "Company size                                                                                                                  5\n",
            "Company type                                                                                                                 63\n",
            "Have you lost your job due to the coronavirus outbreak?                                                                      10\n",
            "Have you been forced to have a shorter working week (Kurzarbeit)? If yes, how many hours per week                            23\n",
            "Have you received additional monetary support from your employer due to Work From Home? If yes, how much in 2020 in EUR      59\n",
            "dtype: int64\n"
          ]
        }
      ]
    },
    {
      "cell_type": "code",
      "source": [
        "# Membuat DataFrame yang menunjukkan nilai null dalam setiap kolom\n",
        "df_isnull = dataset.isnull().sum()\n",
        "\n",
        "# Menampilkan DataFrame dengan jumlah nilai null\n",
        "print(df_isnull)"
      ],
      "metadata": {
        "colab": {
          "base_uri": "https://localhost:8080/"
        },
        "id": "IjipgjCg2yKy",
        "outputId": "39701f07-b8d7-4512-88f6-79faf689742b"
      },
      "execution_count": 10,
      "outputs": [
        {
          "output_type": "stream",
          "name": "stdout",
          "text": [
            "Timestamp                                                                                                                    0\n",
            "Age                                                                                                                         27\n",
            "Gender                                                                                                                      10\n",
            "City                                                                                                                         0\n",
            "Position                                                                                                                     6\n",
            "Total years of experience                                                                                                   16\n",
            "Years of experience in Germany                                                                                              32\n",
            "Seniority level                                                                                                             12\n",
            "Your main technology / programming language                                                                                127\n",
            "Other technologies/programming languages you use often                                                                     157\n",
            "Yearly brutto salary (without bonus and stocks) in EUR                                                                       0\n",
            "Yearly bonus + stocks in EUR                                                                                               424\n",
            "Annual brutto salary (without bonus and stocks) one year ago. Only answer if staying in the same country                   368\n",
            "Annual bonus+stocks one year ago. Only answer if staying in same country                                                   639\n",
            "Number of vacation days                                                                                                     68\n",
            "Employment status                                                                                                           17\n",
            "Сontract duration                                                                                                           29\n",
            "Main language at work                                                                                                       16\n",
            "Company size                                                                                                                18\n",
            "Company type                                                                                                                25\n",
            "Have you lost your job due to the coronavirus outbreak?                                                                     20\n",
            "Have you been forced to have a shorter working week (Kurzarbeit)? If yes, how many hours per week                          880\n",
            "Have you received additional monetary support from your employer due to Work From Home? If yes, how much in 2020 in EUR    791\n",
            "dtype: int64\n"
          ]
        }
      ]
    },
    {
      "cell_type": "code",
      "source": [
        "import seaborn as sns\n",
        "\n",
        "plt.figure(figsize=(10, 6))\n",
        "sns.histplot(dataset['Yearly brutto salary (without bonus and stocks) in EUR'], bins=30, kde=True, color='skyblue')\n",
        "plt.title('Distribusi Gaji')\n",
        "plt.xlabel('Gaji (EUR)')\n",
        "plt.ylabel('Frekuensi')\n",
        "plt.show()"
      ],
      "metadata": {
        "colab": {
          "base_uri": "https://localhost:8080/",
          "height": 564
        },
        "id": "P-Zg3O_T24mK",
        "outputId": "af3ef9a2-d54f-4886-8144-c05d82375643"
      },
      "execution_count": 15,
      "outputs": [
        {
          "output_type": "display_data",
          "data": {
            "text/plain": [
              "<Figure size 1000x600 with 1 Axes>"
            ],
            "image/png": "[encoded data removed]"
          },
          "metadata": {}
        }
      ]
    },
    {
      "cell_type": "code",
      "source": [
        "plt.figure(figsize=(10, 6))\n",
        "sns.scatterplot(x='Total years of experience', y='Yearly brutto salary (without bonus and stocks) in EUR', data=dataset, color='green')\n",
        "plt.title('Hubungan antara Gaji dan Pengalaman Kerja')\n",
        "plt.xlabel('Total Tahun Pengalaman')\n",
        "plt.ylabel('Gaji (EUR)')\n",
        "plt.show()\n"
      ],
      "metadata": {
        "colab": {
          "base_uri": "https://localhost:8080/",
          "height": 564
        },
        "id": "YSbVZrA127ls",
        "outputId": "92daa268-c8fe-48f1-a391-8c998ee54be1"
      },
      "execution_count": 19,
      "outputs": [
        {
          "output_type": "display_data",
          "data": {
            "text/plain": [
              "<Figure size 1000x600 with 1 Axes>"
            ],
            "image/png": "[encoded data removed]"
          },
          "metadata": {}
        }
      ]
    },
    {
      "cell_type": "code",
      "source": [
        "plt.figure(figsize=(10, 6))\n",
        "sns.boxplot(x='Gender', y='Yearly brutto salary (without bonus and stocks) in EUR', data=dataset, palette='husl')\n",
        "plt.title('Perbandingan Gaji Berdasarkan Jenis Kelamin')\n",
        "plt.xlabel('Jenis Kelamin')\n",
        "plt.ylabel('Gaji (EUR)')\n",
        "plt.show()"
      ],
      "metadata": {
        "colab": {
          "base_uri": "https://localhost:8080/",
          "height": 651
        },
        "id": "gqnLHWvH4Eo2",
        "outputId": "255830dc-f73c-4fa1-875e-bccd1fecfe58"
      },
      "execution_count": 20,
      "outputs": [
        {
          "output_type": "stream",
          "name": "stderr",
          "text": [
            "<ipython-input-20-771efb450831>:2: FutureWarning: \n",
            "\n",
            "Passing `palette` without assigning `hue` is deprecated and will be removed in v0.14.0. Assign the `x` variable to `hue` and set `legend=False` for the same effect.\n",
            "\n",
            "  sns.boxplot(x='Gender', y='Yearly brutto salary (without bonus and stocks) in EUR', data=dataset, palette='husl')\n"
          ]
        },
        {
          "output_type": "display_data",
          "data": {
            "text/plain": [
              "<Figure size 1000x600 with 1 Axes>"
            ],
            "image/png": "[encoded data removed]"
          },
          "metadata": {}
        }
      ]
    },
    {
      "cell_type": "code",
      "source": [
        "plt.show()\n",
        "plt.figure(figsize=(10, 6))\n",
        "sns.boxplot(x='Gender', y='Yearly brutto salary (without bonus and stocks) in EUR', data=dataset, palette='husl')\n",
        "plt.title('Perbandingan Gaji Berdasarkan Jenis Kelamin')\n",
        "plt.xlabel('Jenis Kelamin')\n",
        "plt.ylabel('Gaji (EUR)')\n",
        "plt.show()\n"
      ],
      "metadata": {
        "colab": {
          "base_uri": "https://localhost:8080/",
          "height": 651
        },
        "id": "J6V0i9Yl4Qc7",
        "outputId": "f1ed419f-b7ca-47da-90fa-1939580abb7c"
      },
      "execution_count": 21,
      "outputs": [
        {
          "output_type": "stream",
          "name": "stderr",
          "text": [
            "<ipython-input-21-77bc08739e04>:3: FutureWarning: \n",
            "\n",
            "Passing `palette` without assigning `hue` is deprecated and will be removed in v0.14.0. Assign the `x` variable to `hue` and set `legend=False` for the same effect.\n",
            "\n",
            "  sns.boxplot(x='Gender', y='Yearly brutto salary (without bonus and stocks) in EUR', data=dataset, palette='husl')\n"
          ]
        },
        {
          "output_type": "display_data",
          "data": {
            "text/plain": [
              "<Figure size 1000x600 with 1 Axes>"
            ],
            "image/png": "[encoded data removed]"
          },
          "metadata": {}
        }
      ]
    },
    {
      "cell_type": "code",
      "source": [],
      "metadata": {
        "id": "LWObO3KR5Odw"
      },
      "execution_count": null,
      "outputs": []
    }
  ]
}