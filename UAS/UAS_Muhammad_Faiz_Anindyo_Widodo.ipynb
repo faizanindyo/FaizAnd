{
  "nbformat": 4,
  "nbformat_minor": 0,
  "metadata": {
    "colab": {
      "provenance": [],
      "authorship_tag": "ABX9TyPgGwYqv70Y1R+HKi46yaf8",
      "include_colab_link": true
    },
    "kernelspec": {
      "name": "python3",
      "display_name": "Python 3"
    },
    "language_info": {
      "name": "python"
    }
  },
  "cells": [
    {
      "cell_type": "markdown",
      "metadata": {
        "id": "view-in-github",
        "colab_type": "text"
      },
      "source": [
        "<a href=\"https://colab.research.google.com/github/faizanindyo/FaizAnd/blob/main/UAS/UAS_Muhammad_Faiz_Anindyo_Widodo.ipynb\" target=\"_parent\"><img src=\"https://colab.research.google.com/assets/colab-badge.svg\" alt=\"Open In Colab\"/></a>"
      ]
    },
    {
      "cell_type": "markdown",
      "source": [
        "Nama : MUHAMMAD FAIZ ANINDYO WIDODO\n",
        "\n",
        "NIM : 1103213011\n",
        "\n",
        "Judul : UAS MACHINE LEARNING\n",
        "\n",
        "Dataset dan Model : MNIST FASHION MODEL CNN\n",
        "\n",
        "Refrensi : https://github.com/zalandoresearch/fashion-mnist & https://www.youtube.com/watch?v=p_Mcys2Cbik&ab_channel=RidwanIlyas"
      ],
      "metadata": {
        "id": "SZra3AYxJ8Ih"
      }
    },
    {
      "cell_type": "code",
      "execution_count": 21,
      "metadata": {
        "id": "JtMdBYbU-4sk"
      },
      "outputs": [],
      "source": [
        "# Mengimpor library yang diperlukan\n",
        "import tensorflow as tf\n",
        "from tensorflow.keras.models import Sequential\n",
        "from tensorflow.keras.layers import Conv2D, MaxPooling2D, Flatten, Dense, Dropout, BatchNormalization\n",
        "from tensorflow.keras.preprocessing.image import ImageDataGenerator\n",
        "import numpy as np\n",
        "import matplotlib.pyplot as plt"
      ]
    },
    {
      "cell_type": "code",
      "source": [
        "# Mengimpor dataset Fashion MNIST dari Keras\n",
        "mnist = tf.keras.datasets.fashion_mnist\n",
        "\n",
        "# Memuat dataset dan membaginya menjadi set pelatihan dan set pengujian\n",
        "(train_images, train_labels), (test_images, test_labels) = mnist.load_data()"
      ],
      "metadata": {
        "id": "UFzB5gCc_A9s"
      },
      "execution_count": 23,
      "outputs": []
    },
    {
      "cell_type": "code",
      "source": [
        "# Menggunakan hanya 150 data pertama dari set pelatihan dan pengujian untuk pelatihan cepat\n",
        "train_images, train_labels = train_images[:150], train_labels[:150]\n",
        "test_images, test_labels = test_images[:150], test_labels[:150]"
      ],
      "metadata": {
        "id": "wA2-5Onl_IDp"
      },
      "execution_count": 40,
      "outputs": []
    },
    {
      "cell_type": "code",
      "source": [
        "# Menampilkan bentuk data pelatihan dan pengujian\n",
        "print(f'Train images shape: {train_images.shape}')\n",
        "print(f'Train labels shape: {train_labels.shape}')\n",
        "print(f'Test images shape: {test_images.shape}')\n",
        "print(f'Test labels shape: {test_labels.shape}')"
      ],
      "metadata": {
        "colab": {
          "base_uri": "https://localhost:8080/"
        },
        "id": "_uCjUaKb_E3S",
        "outputId": "d0511d99-4bda-4037-c680-ccde3bc8118b"
      },
      "execution_count": 24,
      "outputs": [
        {
          "output_type": "stream",
          "name": "stdout",
          "text": [
            "Train images shape: (60000, 28, 28)\n",
            "Train labels shape: (60000,)\n",
            "Test images shape: (10000, 28, 28)\n",
            "Test labels shape: (10000,)\n"
          ]
        }
      ]
    },
    {
      "cell_type": "code",
      "source": [
        "# Mengatur opsi tampilan numpy\n",
        "np.set_printoptions(linewidth=200)"
      ],
      "metadata": {
        "id": "MMe9RJ6K_MAE"
      },
      "execution_count": 11,
      "outputs": []
    },
    {
      "cell_type": "code",
      "source": [
        "# Menampilkan salah satu gambar dari set pelatihan\n",
        "index = 30\n",
        "plt.imshow(train_images[index], cmap='gray')\n",
        "plt.title(f'Label: {train_labels[index]}')\n",
        "plt.show()"
      ],
      "metadata": {
        "colab": {
          "base_uri": "https://localhost:8080/",
          "height": 452
        },
        "id": "rIV8d8BTAC25",
        "outputId": "170dd86d-baa7-4c45-87ae-61a72c3db293"
      },
      "execution_count": 14,
      "outputs": [
        {
          "output_type": "display_data",
          "data": {
            "text/plain": [
              "<Figure size 640x480 with 1 Axes>"
            ],
            "image/png": "[encoded data removed]"
          },
          "metadata": {}
        }
      ]
    },
    {
      "cell_type": "code",
      "source": [
        "# Menampilkan nilai piksel gambar pada indeks yang ditentukan\n",
        "print(f'Label: {train_labels[index]}')\n",
        "print(train_images[index])\n"
      ],
      "metadata": {
        "colab": {
          "base_uri": "https://localhost:8080/"
        },
        "id": "y-ox800qAJwi",
        "outputId": "36b9543c-3fff-4f2a-9c74-901c315a29ac"
      },
      "execution_count": 15,
      "outputs": [
        {
          "output_type": "stream",
          "name": "stdout",
          "text": [
            "Label: 5\n",
            "[[  0   0   0   0   0   0   0   0   0   0   0   0   0   0   0   0   0   0   0   0   0   0   0   0   0   0   0   0]\n",
            " [  0   0   0   0   0   0   0   0   0   0   0   0   0   0   0   0   0   0   0   0   0   0   0   0   0   0   0   0]\n",
            " [  0   0   0   0   0   0   0   0   0   0   0   0   0   0   0   0   0   0   0   0   0   0   0   0   0   0   0   0]\n",
            " [  0   0   0   0   0   0   0   0   0   0   0   0   0   0   0   0   0   0   0   0   0   0   0   0   0   0   0   0]\n",
            " [  0   0   0   0   0   0   0   0   0   0   0   0   0   0   0   0   0   0   0   0   0   0   0   0   0   0   0   0]\n",
            " [  0   0   0   0   0   0   0   0   0   0   0   0   0   0   0   0   0   0   0   0   0   0   0   0   0   0   0   0]\n",
            " [  0   0   0   0   0   0   0   0   0   0   0   0   0   0   0   0   0   0   0   0   0   0   0   0   0   0   0   0]\n",
            " [  0   0   0   0   0   0   0   0   0   0   0   0   0   0   0   0   0   0   0   0   0   0   0   0   0   0   0   0]\n",
            " [  0   0   0   0   0   0   0   0   0   0   0   0   0   0   0   0   0   0   0   0   0   0   0   0   0   0   0   0]\n",
            " [  0   0   0   0   0   0   0   0   0   0   0   0   0   0   0   0   0   0   0   0   0   0   0   0   0   0   0   0]\n",
            " [  0   0   0   0   0   0   0   0   0   0   0   0   0   0   0   0   0   0   0   0   0   0   0   0   0   0   0   0]\n",
            " [  0   0   0   0   0   0   0   0  48  88  54  25  19   0   0   0   0   1   0   0   0   0   0   0   0   0   0   0]\n",
            " [  4   1   1   1   0   0 206 204 106 163 178 157 163 171 119  39   0   0   2   1   1   1   1   1   1   1   0   0]\n",
            " [  0   0   0   0   0  84 204   0   0   0   1  57  91  77  99 138  94   7   0   0   0   0   0   0   0   0   1   3]\n",
            " [ 51  43  27  27  28 254  31   0   4   0   0   0  16 121  84  19  63 110  31   0   0   0   0   0   0   0   0   0]\n",
            " [137 202 133 108  97 146  71  78  82  86  85 105 118 139 143 126 162 176 135  69  76  71  91  99 103  94  99  54]\n",
            " [  0 110 186 205 203 193 191 178 204 172 175 175 177 183 189 190 197 196 192 182 186 185 184 182 178 168 159  77]\n",
            " [  0   0   0   4  51  69  92 108 112 115 112 111 112  90  77  62  44  36  32  35  27  25  19  14   5   0   0   0]\n",
            " [  0   0   0   0   0   0   0   0   0   0   0   0   0   0   0   0   0   0   0   0   0   0   0   0   0   0   0   0]\n",
            " [  0   0   0   0   0   0   0   0   0   0   0   0   0   0   0   0   0   0   0   0   0   0   0   0   0   0   0   0]\n",
            " [  0   0   0   0   0   0   0   0   0   0   0   0   0   0   0   0   0   0   0   0   0   0   0   0   0   0   0   0]\n",
            " [  0   0   0   0   0   0   0   0   0   0   0   0   0   0   0   0   0   0   0   0   0   0   0   0   0   0   0   0]\n",
            " [  0   0   0   0   0   0   0   0   0   0   0   0   0   0   0   0   0   0   0   0   0   0   0   0   0   0   0   0]\n",
            " [  0   0   0   0   0   0   0   0   0   0   0   0   0   0   0   0   0   0   0   0   0   0   0   0   0   0   0   0]\n",
            " [  0   0   0   0   0   0   0   0   0   0   0   0   0   0   0   0   0   0   0   0   0   0   0   0   0   0   0   0]\n",
            " [  0   0   0   0   0   0   0   0   0   0   0   0   0   0   0   0   0   0   0   0   0   0   0   0   0   0   0   0]\n",
            " [  0   0   0   0   0   0   0   0   0   0   0   0   0   0   0   0   0   0   0   0   0   0   0   0   0   0   0   0]\n",
            " [  0   0   0   0   0   0   0   0   0   0   0   0   0   0   0   0   0   0   0   0   0   0   0   0   0   0   0   0]]\n"
          ]
        }
      ]
    },
    {
      "cell_type": "code",
      "source": [
        "# Preprocessing data: merubah bentuk dan melakukan normalisasi\n",
        "train_images = train_images.reshape((train_images.shape[0], 28, 28, 1)) / 255.0\n",
        "test_images = test_images.reshape((test_images.shape[0], 28, 28, 1)) / 255.0"
      ],
      "metadata": {
        "id": "qtqdg6z0ALXs"
      },
      "execution_count": 26,
      "outputs": []
    },
    {
      "cell_type": "code",
      "source": [
        "# Augmentasi Data\n",
        "datagen = ImageDataGenerator(\n",
        "    rotation_range=10,\n",
        "    width_shift_range=0.1,\n",
        "    height_shift_range=0.1,\n",
        "    shear_range=0.1,\n",
        "    zoom_range=0.1,\n",
        "    horizontal_flip=True\n",
        ")\n",
        "datagen.fit(train_images)"
      ],
      "metadata": {
        "id": "ePODhQ7xAOwX"
      },
      "execution_count": 27,
      "outputs": []
    },
    {
      "cell_type": "code",
      "source": [
        "model = Sequential([\n",
        "    Conv2D(32, (3, 3), activation='relu', input_shape=(28, 28, 1)),  # Convolutional layer dengan 32 filter 3x3 dan ReLU activation\n",
        "    MaxPooling2D((2, 2)),  # Max pooling layer dengan filter 2x2\n",
        "    Conv2D(64, (3, 3), activation='relu'),  # Convolutional layer dengan 64 filter 3x3 dan ReLU activation\n",
        "    MaxPooling2D((2, 2)),  # Max pooling layer dengan filter 2x2\n",
        "    Flatten(),  # Meratakan output dari lapisan sebelumnya menjadi vektor\n",
        "    Dense(128, activation='relu'),  # Fully connected layer dengan 128 unit dan ReLU activation\n",
        "    Dense(10, activation='softmax')  # Output layer dengan 10 unit untuk klasifikasi 10 kategori dan softmax activation\n",
        "])\n"
      ],
      "metadata": {
        "id": "k1Hl7TOHA_Wv"
      },
      "execution_count": 33,
      "outputs": []
    },
    {
      "cell_type": "code",
      "source": [
        "# Compile model\n",
        "model.compile(optimizer='adam',\n",
        "              loss='sparse_categorical_crossentropy',\n",
        "              metrics=['accuracy'])"
      ],
      "metadata": {
        "id": "bB-IMHfiAREK"
      },
      "execution_count": 34,
      "outputs": []
    },
    {
      "cell_type": "code",
      "source": [
        "# Train model\n",
        "history = model.fit(training_images, training_labels, epochs=10, validation_data=(test_images, test_labels))"
      ],
      "metadata": {
        "colab": {
          "base_uri": "https://localhost:8080/"
        },
        "id": "ZGAHjxBYGGBa",
        "outputId": "6cfb9d2e-3d47-4571-c141-94b64e0cf8ad"
      },
      "execution_count": 35,
      "outputs": [
        {
          "output_type": "stream",
          "name": "stdout",
          "text": [
            "Epoch 1/10\n",
            "1875/1875 [==============================] - 67s 35ms/step - loss: 0.4484 - accuracy: 0.8362 - val_loss: 0.3340 - val_accuracy: 0.8775\n",
            "Epoch 2/10\n",
            "1875/1875 [==============================] - 62s 33ms/step - loss: 0.3000 - accuracy: 0.8900 - val_loss: 0.2960 - val_accuracy: 0.8938\n",
            "Epoch 3/10\n",
            "1875/1875 [==============================] - 62s 33ms/step - loss: 0.2567 - accuracy: 0.9042 - val_loss: 0.3020 - val_accuracy: 0.8903\n",
            "Epoch 4/10\n",
            "1875/1875 [==============================] - 62s 33ms/step - loss: 0.2259 - accuracy: 0.9172 - val_loss: 0.2688 - val_accuracy: 0.9034\n",
            "Epoch 5/10\n",
            "1875/1875 [==============================] - 61s 32ms/step - loss: 0.1993 - accuracy: 0.9250 - val_loss: 0.2405 - val_accuracy: 0.9131\n",
            "Epoch 6/10\n",
            "1875/1875 [==============================] - 62s 33ms/step - loss: 0.1773 - accuracy: 0.9334 - val_loss: 0.2529 - val_accuracy: 0.9095\n",
            "Epoch 7/10\n",
            "1875/1875 [==============================] - 60s 32ms/step - loss: 0.1570 - accuracy: 0.9407 - val_loss: 0.2512 - val_accuracy: 0.9120\n",
            "Epoch 8/10\n",
            "1875/1875 [==============================] - 59s 32ms/step - loss: 0.1404 - accuracy: 0.9467 - val_loss: 0.2812 - val_accuracy: 0.9096\n",
            "Epoch 9/10\n",
            "1875/1875 [==============================] - 60s 32ms/step - loss: 0.1274 - accuracy: 0.9518 - val_loss: 0.2747 - val_accuracy: 0.9092\n",
            "Epoch 10/10\n",
            "1875/1875 [==============================] - 64s 34ms/step - loss: 0.1122 - accuracy: 0.9581 - val_loss: 0.2885 - val_accuracy: 0.9045\n"
          ]
        }
      ]
    },
    {
      "cell_type": "code",
      "source": [
        "# Evaluasi Model\n",
        "test_loss, test_acc = model.evaluate(test_images, test_labels, verbose=2)\n",
        "print(f'\\nAkurasi pada data uji: {test_acc:.4f}')"
      ],
      "metadata": {
        "colab": {
          "base_uri": "https://localhost:8080/"
        },
        "id": "dRC9CU67BNEo",
        "outputId": "574373d4-4048-4526-c240-e8ad44742ab0"
      },
      "execution_count": 36,
      "outputs": [
        {
          "output_type": "stream",
          "name": "stdout",
          "text": [
            "313/313 - 2s - loss: 0.2885 - accuracy: 0.9045 - 2s/epoch - 8ms/step\n",
            "\n",
            "Akurasi pada data uji: 0.9045\n"
          ]
        }
      ]
    },
    {
      "cell_type": "code",
      "source": [
        "# Menampilkan grafik akurasi pelatihan dan validasi\n",
        "plt.plot(history.history['accuracy'], label='Training Accuracy')\n",
        "plt.plot(history.history['val_accuracy'], label='Validation Accuracy')\n",
        "plt.xlabel('Epoch')\n",
        "plt.ylabel('Accuracy')\n",
        "plt.ylim([0, 1])\n",
        "plt.legend(loc='lower right')\n",
        "plt.title('Training and Validation Accuracy')\n",
        "plt.grid(True)\n",
        "plt.show()"
      ],
      "metadata": {
        "colab": {
          "base_uri": "https://localhost:8080/",
          "height": 472
        },
        "id": "gpGlB0GiAX9c",
        "outputId": "036d2697-36f3-4009-b099-0293176522bb"
      },
      "execution_count": 37,
      "outputs": [
        {
          "output_type": "display_data",
          "data": {
            "text/plain": [
              "<Figure size 640x480 with 1 Axes>"
            ],
            "image/png": "[encoded data removed]"
          },
          "metadata": {}
        }
      ]
    }
  ]
}